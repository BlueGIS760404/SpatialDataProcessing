{
 "cells": [
  {
   "cell_type": "code",
   "execution_count": 9,
   "id": "1b241bcf-68f3-43e4-a23c-85760637008c",
   "metadata": {},
   "outputs": [],
   "source": [
    "# Script 1: Shapefile\n",
    "import geopandas as gpd\n",
    "\n",
    "# Read the shapefile\n",
    "shapefile_path = \"path/to/your/shapefile.shp\"\n",
    "gdf = gpd.read_file(shapefile_path)\n",
    "\n",
    "# Specify the field (column) you want to analyze\n",
    "field_name = \"your_field_name\"  # e.g., \"land_use\", \"category\", etc.\n",
    "\n",
    "# Extract unique values from the field\n",
    "unique_values = gdf[field_name].unique()\n",
    "\n",
    "# Print the results\n",
    "print(f\"Unique values in '{field_name}':\")\n",
    "for value in unique_values:\n",
    "    print(value)\n",
    "\n",
    "# Count occurrences of each unique value\n",
    "value_counts = gdf[field_name].value_counts()\n",
    "print(\"\\nValue counts:\")\n",
    "print(value_counts)"
   ]
  },
  {
   "cell_type": "code",
   "execution_count": 10,
   "id": "fb27b43c-fc19-4e96-90e0-b2c1d893e134",
   "metadata": {},
   "outputs": [],
   "source": [
    "# Script 2: Geodatabase (GDB)\n",
    "import geopandas as gpd\n",
    "\n",
    "# Read the feature class from GDB\n",
    "gdb_path = \"path/to/your/geodatabase.gdb\"\n",
    "layer_name = \"your_feature_class_name\"\n",
    "\n",
    "gdf = gpd.read_file(gdb_path, layer=layer_name, driver=\"OpenFileGDB\")  # For File Geodatabases\n",
    "# For Enterprise GDBs, use driver=\"FileGDB\"\n",
    "\n",
    "# Get unique values from a field\n",
    "field_name = \"your_field_name\"\n",
    "unique_values = gdf[field_name].unique()\n",
    "\n",
    "print(f\"Unique values in '{field_name}':\")\n",
    "for value in unique_values:\n",
    "    print(value)\n",
    "\n",
    "# Optional: Count occurrences\n",
    "print(\"\\nValue counts:\")\n",
    "print(gdf[field_name].value_counts())"
   ]
  }
 ],
 "metadata": {
  "kernelspec": {
   "display_name": "Python 3 (ipykernel)",
   "language": "python",
   "name": "python3"
  },
  "language_info": {
   "codemirror_mode": {
    "name": "ipython",
    "version": 3
   },
   "file_extension": ".py",
   "mimetype": "text/x-python",
   "name": "python",
   "nbconvert_exporter": "python",
   "pygments_lexer": "ipython3",
   "version": "3.9.21"
  }
 },
 "nbformat": 4,
 "nbformat_minor": 5
}
